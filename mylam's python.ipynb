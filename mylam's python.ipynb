{
 "cells": [
  {
   "cell_type": "code",
   "execution_count": null,
   "id": "7083e976",
   "metadata": {},
   "outputs": [],
   "source": [
    "#guessing game\n"
   ]
  },
  {
   "cell_type": "code",
   "execution_count": null,
   "id": "bf187e73",
   "metadata": {},
   "outputs": [],
   "source": [
    "import random"
   ]
  },
  {
   "cell_type": "code",
   "execution_count": null,
   "id": "41e0cac4",
   "metadata": {},
   "outputs": [],
   "source": [
    "number = random.randint(1,10)\n",
    "guess_limit = 0\n",
    "player_name = input('Hello! What is your name?')\n",
    "print (\"Hi\" ,player_name,\",welcome to the guessing game\")"
   ]
  },
  {
   "cell_type": "code",
   "execution_count": null,
   "id": "18c7913b",
   "metadata": {},
   "outputs": [],
   "source": [
    "while guess_limit <= 5:\n",
    "    guess_limit +=1\n",
    "    guess = int(input(\"the number you guess \"))\n",
    "    if (guess < guess_number) :\n",
    "        print (\"your guessing number is too low \")\n",
    "    elif (guess > guess_number) :\n",
    "        print (\"your guessing number is too high\")\n",
    "    elif (guess == guess_number) :\n",
    "        break\n",
    "\n",
    "if (guess == guess_number):\n",
    "    print (\"you got the correct number after\", guess_limit ,\"tries\" )\n",
    "if (guess_limit > 5) :\n",
    "    print (\"Game over !!! The correct number is\" , guess_number)"
   ]
  },
  {
   "cell_type": "code",
   "execution_count": null,
   "id": "b2c49d1c",
   "metadata": {},
   "outputs": [],
   "source": [
    "#Python Rock Paper Scissors Game\n"
   ]
  },
  {
   "cell_type": "code",
   "execution_count": 24,
   "id": "e385b948",
   "metadata": {},
   "outputs": [],
   "source": [
    "choices = [\"R\",\"P\",\"S\"]\n",
    "import random"
   ]
  },
  {
   "cell_type": "code",
   "execution_count": 25,
   "id": "31578d51",
   "metadata": {},
   "outputs": [],
   "source": [
    "def get_choice(input):\n",
    "    if input == \"R\":\n",
    "        return \"Rock\"\n",
    "    elif input ==\"P\":\n",
    "        return \"Paper\"\n",
    "    elif input == \"S\":\n",
    "        return \"Scissors\"\n",
    "    else:\n",
    "        return \"Not [R,P, or S]\"\n",
    "    "
   ]
  },
  {
   "cell_type": "code",
   "execution_count": 26,
   "id": "45a619dc",
   "metadata": {},
   "outputs": [
    {
     "name": "stdout",
     "output_type": "stream",
     "text": [
      "Rock, Paper, Scissors - Shoot!\n",
      "[R]=Rock, [P]=Paper. [S]=Scissors and [Q]=Quit\n",
      "Game 1:\n",
      "Please choose a letter:\n",
      "R\n",
      "You chose Rock the computer chose Paper\n",
      "Computer win, Paper beats Rock\n",
      "\n",
      "\n",
      "Game 2:\n",
      "Please choose a letter:\n",
      "P\n",
      "You chose Paper the computer chose Paper\n",
      "It is a tie!\n",
      "\n",
      "\n",
      "Game 3:\n",
      "Please choose a letter:\n",
      "P\n",
      "You chose Paper the computer chose Scissors\n",
      "Computer win, Scissors beats Paper\n",
      "\n",
      "\n",
      "Game 4:\n",
      "Please choose a letter:\n",
      "Q\n",
      "Thanks for playing !\n"
     ]
    }
   ],
   "source": [
    "print('Rock, Paper, Scissors - Shoot!')\n",
    "print('[R]=Rock, [P]=Paper. [S]=Scissors and [Q]=Quit')\n",
    "counter = 1\n",
    "\n",
    "while True:\n",
    "    \n",
    "    print('Game '+str(counter)+':')\n",
    "    print('Please choose a letter:')\n",
    "    user_choice = input()\n",
    "    \n",
    "    if user_choice == \"Q\":\n",
    "        print('Thanks for playing !')\n",
    "        break;\n",
    "        \n",
    "    random_index = random.randint(0,2)\n",
    "    computer_choice = choices[random_index]\n",
    "    \n",
    "    print('You chose ' +get_choice(user_choice)+' the computer chose '+ get_choice(computer_choice))\n",
    "    \n",
    "    if user_choice == \"R\" and computer_choice == \"S\":\n",
    "        print('You win, Rock beats Scissor')\n",
    "    elif user_choice == \"P\" and computer_choice == \"R\":\n",
    "        print('You win, Paper beats Rock')\n",
    "    elif user_choice ==\"S\" and computer_choice ==\"P\":\n",
    "        print('You win, Scissors beats Paper')\n",
    "    elif user_choice ==\"R\" and computer_choice ==\"P\":\n",
    "        print('Computer win, Paper beats Rock')\n",
    "    elif user_choice == \"P\" and computer_choice == \"S\":\n",
    "        print('Computer win, Scissors beats Paper')\n",
    "    elif user_choice == \"S\" and computer_choice == \"R\":\n",
    "        print('Computer win, Rock beats Scissors')\n",
    "    elif user_choice == computer_choice:\n",
    "        print('It is a tie!')\n",
    "    else:\n",
    "        print('Please enter [R,P,S, or Q]')\n",
    "    counter = counter + 1\n",
    "    print('\\n')"
   ]
  },
  {
   "cell_type": "code",
   "execution_count": null,
   "id": "9b78be8b",
   "metadata": {},
   "outputs": [],
   "source": []
  },
  {
   "cell_type": "code",
   "execution_count": null,
   "id": "004042b9",
   "metadata": {},
   "outputs": [],
   "source": []
  },
  {
   "cell_type": "code",
   "execution_count": null,
   "id": "89c394c7",
   "metadata": {},
   "outputs": [],
   "source": []
  }
 ],
 "metadata": {
  "kernelspec": {
   "display_name": "Python 3 (ipykernel)",
   "language": "python",
   "name": "python3"
  },
  "language_info": {
   "codemirror_mode": {
    "name": "ipython",
    "version": 3
   },
   "file_extension": ".py",
   "mimetype": "text/x-python",
   "name": "python",
   "nbconvert_exporter": "python",
   "pygments_lexer": "ipython3",
   "version": "3.9.13"
  }
 },
 "nbformat": 4,
 "nbformat_minor": 5
}
